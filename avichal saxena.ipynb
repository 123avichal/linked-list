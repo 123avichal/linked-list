{
 "cells": [
  {
   "cell_type": "markdown",
   "id": "8e19d0e2-6678-4391-8cb6-2c49ab25d163",
   "metadata": {},
   "source": [
    "Problem 32: Reverse a given string.\n",
    "Input: \"hello\"\n",
    "Output: \"olleh\""
   ]
  },
  {
   "cell_type": "code",
   "execution_count": 14,
   "id": "ebbc19cb-4a20-41bb-8109-9c3657c74d77",
   "metadata": {},
   "outputs": [],
   "source": [
    "def reverse(string):\n",
    "    if string==\"\":\n",
    "        return ''\n",
    "    else:\n",
    "        return reverse(string[1:]) + string[0]"
   ]
  },
  {
   "cell_type": "code",
   "execution_count": 15,
   "id": "9609ff5b-26e0-4655-94ed-e151275fe8af",
   "metadata": {},
   "outputs": [
    {
     "data": {
      "text/plain": [
       "'olleh'"
      ]
     },
     "execution_count": 15,
     "metadata": {},
     "output_type": "execute_result"
    }
   ],
   "source": [
    "reverse(\"hello\")"
   ]
  },
  {
   "cell_type": "markdown",
   "id": "f71ba6bc-62e5-4e72-a408-6b7d8650a509",
   "metadata": {},
   "source": [
    "Problem 31: Calculate the power of a number using recursion.\n",
    "Input: base = 3, exponent = 4\n",
    "Output: 81 (as 3^4 = 3 * 3 * 3 * 3 = 81)"
   ]
  },
  {
   "cell_type": "code",
   "execution_count": 16,
   "id": "5c280e48-b222-44ba-9145-1ac2a817650d",
   "metadata": {},
   "outputs": [
    {
     "data": {
      "text/plain": [
       "81"
      ]
     },
     "execution_count": 16,
     "metadata": {},
     "output_type": "execute_result"
    }
   ],
   "source": [
    "def power_find(a,n):\n",
    "    if n==1:\n",
    "        return a\n",
    "    else:\n",
    "        return a*power_find(a,n-1)\n",
    "power_find(3,4)"
   ]
  },
  {
   "cell_type": "markdown",
   "id": "5c79ef9e-2640-4ab8-a307-a9f830596666",
   "metadata": {},
   "source": [
    "Problem 30: Generate the Fibonacci series up to a given number n.\n",
    "Input: 8\n",
    "Output: [0, 1, 1, 2, 3, 5, 8, 13]"
   ]
  },
  {
   "cell_type": "code",
   "execution_count": 23,
   "id": "1feba677-34e8-4607-aabd-4f180ab2429f",
   "metadata": {},
   "outputs": [
    {
     "data": {
      "text/plain": [
       "34"
      ]
     },
     "execution_count": 23,
     "metadata": {},
     "output_type": "execute_result"
    }
   ],
   "source": [
    "def fib(n):\n",
    "    if n<=3:\n",
    "        return n\n",
    "    else:\n",
    "        return fib(n-1)+fib(n-2)\n",
    "fib(8)"
   ]
  },
  {
   "cell_type": "markdown",
   "id": "4f2c399d-5212-40a0-abd3-91c9dbad807e",
   "metadata": {},
   "source": [
    "Problem 29: Check if a given number is a prime number.\n",
    "Input: 7\n",
    "Output: True"
   ]
  },
  {
   "cell_type": "code",
   "execution_count": 24,
   "id": "2abae8a9-f173-47e8-a699-f084be3d3b6f",
   "metadata": {},
   "outputs": [],
   "source": [
    "def check_prime(num):\n",
    "    if num%2==0:\n",
    "        print('not prime')\n",
    "    else:\n",
    "        return 'prime'\n",
    "    "
   ]
  },
  {
   "cell_type": "code",
   "execution_count": 25,
   "id": "c9cfe878-cc4d-439c-ba19-a7034ffb839d",
   "metadata": {},
   "outputs": [
    {
     "data": {
      "text/plain": [
       "'prime'"
      ]
     },
     "execution_count": 25,
     "metadata": {},
     "output_type": "execute_result"
    }
   ],
   "source": [
    "check_prime(7)"
   ]
  },
  {
   "cell_type": "markdown",
   "id": "2404115a-9120-47d1-8ed6-8c6f48772627",
   "metadata": {},
   "source": [
    "Problem 28 Calculate the factorial of a given number.\n",
    "Input: 5\n",
    "Output: 120 (as 5! = 5 * 4 * 3 * 2 * 1 = 120)"
   ]
  },
  {
   "cell_type": "code",
   "execution_count": 27,
   "id": "dd43d77d-14ad-4dd2-95f7-dcead6672cd7",
   "metadata": {},
   "outputs": [
    {
     "data": {
      "text/plain": [
       "120"
      ]
     },
     "execution_count": 27,
     "metadata": {},
     "output_type": "execute_result"
    }
   ],
   "source": [
    "def fact(num):\n",
    "    if num==1:\n",
    "        return 1\n",
    "    else:\n",
    "        return num*fact(num-1)\n",
    "fact(5)"
   ]
  },
  {
   "cell_type": "code",
   "execution_count": null,
   "id": "6131ac44-6226-4b4c-8ed9-cc558aa32a51",
   "metadata": {},
   "outputs": [],
   "source": [
    "Problem 27: Implement linear search to find the index of a target element in an array.\n",
    "Input: [5, 3, 8, 2, 7, 4], target = 8\n",
    "Output: 2"
   ]
  },
  {
   "cell_type": "code",
   "execution_count": 28,
   "id": "4d139dcc-d61b-49a4-9d27-67641198d167",
   "metadata": {},
   "outputs": [
    {
     "data": {
      "text/plain": [
       "2"
      ]
     },
     "execution_count": 28,
     "metadata": {},
     "output_type": "execute_result"
    }
   ],
   "source": [
    "def linear_sear(array,si,data):\n",
    "    if si>len(array):\n",
    "        return\n",
    "    if array[si]==data:\n",
    "        return si\n",
    "    else:\n",
    "        return linear_sear(array,si+1,data)\n",
    "array=[5, 3, 8, 2, 7, 4]\n",
    "data = 8\n",
    "linear_sear(array,0,data)"
   ]
  },
  {
   "cell_type": "markdown",
   "id": "5995f459-7837-4e9e-b919-7663a24940e1",
   "metadata": {},
   "source": [
    "Problem 26: Find the maximum element in an array of integers.\n",
    "Input: [3, 7, 2, 9, 4, 1]\n",
    "Output: 9"
   ]
  },
  {
   "cell_type": "code",
   "execution_count": 29,
   "id": "733dc382-2934-4c4f-b8b0-c98818e72c93",
   "metadata": {},
   "outputs": [
    {
     "data": {
      "text/plain": [
       "9"
      ]
     },
     "execution_count": 29,
     "metadata": {},
     "output_type": "execute_result"
    }
   ],
   "source": [
    "def find_maximum(array,n):\n",
    "    if n==0:\n",
    "        return array[0]\n",
    "    else:\n",
    "        return max(array[n-1],find_maximum(array,n-1))\n",
    "array=[3, 7, 2, 9, 4, 1]\n",
    "n=len(array)\n",
    "find_maximum(array,n)"
   ]
  },
  {
   "cell_type": "markdown",
   "id": "f8545f66-2063-4330-b85f-36f780fdc32f",
   "metadata": {},
   "source": [
    "Problem 25: Given an array of integers, calculate the sum of all its elements.\n",
    "Input: [1, 2, 3, 4, 5]\n",
    "Output: 15"
   ]
  },
  {
   "cell_type": "code",
   "execution_count": 32,
   "id": "65aa8fad-fae4-4949-b91b-4a2593be708d",
   "metadata": {},
   "outputs": [
    {
     "data": {
      "text/plain": [
       "15"
      ]
     },
     "execution_count": 32,
     "metadata": {},
     "output_type": "execute_result"
    }
   ],
   "source": [
    "def sum_till(n):\n",
    "    if n<10:\n",
    "        return n\n",
    "    else:\n",
    "        return n%10 + sum_till(n//10)\n",
    "n=12345\n",
    "sum_till(n)\n"
   ]
  },
  {
   "cell_type": "markdown",
   "id": "e6677557-0321-4d3c-b46b-4a46976678fb",
   "metadata": {},
   "source": [
    "Problem 24: Given an unsorted array, reorder it in-place such that nums[0] <= nums[1] >= nums[2] <=\n",
    "nums[3]...\n",
    "Input: nums = [3, 5, 2, 1, 6, 4]\n",
    "Output: [3, 5, 1, 6, 2, 4]"
   ]
  },
  {
   "cell_type": "code",
   "execution_count": 41,
   "id": "1f5e13c9-932d-4ddb-adb6-4e3c232284be",
   "metadata": {},
   "outputs": [],
   "source": [
    "def test(array):\n",
    "    for i in range(0,len(array)-1,2):\n",
    "        if i>0 and array[i]>array[i-1]:\n",
    "            array[i],array[i-1]=array[i-1],array[i]\n",
    "        if i<len(array) and array[i]>array[i+1]:\n",
    "            array[i],array[i+1]=array[i+1],array[i]"
   ]
  },
  {
   "cell_type": "code",
   "execution_count": 43,
   "id": "fbbc87ab-1625-47ba-95cb-9df5c5d9fed3",
   "metadata": {},
   "outputs": [
    {
     "name": "stdout",
     "output_type": "stream",
     "text": [
      "[3, 5, 1, 6, 2, 4]\n"
     ]
    }
   ],
   "source": [
    "array=[3, 5, 2, 1, 6, 4]\n",
    "test(array)\n",
    "print(array)"
   ]
  },
  {
   "cell_type": "code",
   "execution_count": null,
   "id": "35c2b2fd-5b54-46c2-8a05-59e0abc52b29",
   "metadata": {},
   "outputs": [],
   "source": [
    "Problem 23: Find the kth largest element in an unsorted array.\n",
    "Input: nums = [3, 2, 1, 5, 6, 4], k = 2\n",
    "Output: 5"
   ]
  },
  {
   "cell_type": "code",
   "execution_count": 7,
   "id": "e380296c-21d2-4336-91a9-993a0378e198",
   "metadata": {},
   "outputs": [
    {
     "name": "stdout",
     "output_type": "stream",
     "text": [
      "[4, 2, 1, 5, 6, 4]\n"
     ]
    }
   ],
   "source": [
    "def test1(array,k):\n",
    "    k=k%len(array)\n",
    "    for i in range(k):\n",
    "        prev=array[0]\n",
    "        curr=array[0]\n",
    "        array[0]=array[len(array)-1]\n",
    "        j=1\n",
    "        while j<len(array):\n",
    "            prev=array[j]\n",
    "            curr=array[j]\n",
    "            prev=curr\n",
    "            j+=1\n",
    "\n",
    "array= [3, 2, 1, 5, 6, 4]\n",
    "test1(array,2)\n",
    "print(array)"
   ]
  },
  {
   "cell_type": "code",
   "execution_count": null,
   "id": "9aba1d73-66de-444f-b1ed-2cf0302d27ca",
   "metadata": {},
   "outputs": [],
   "source": [
    "        "
   ]
  },
  {
   "cell_type": "code",
   "execution_count": 5,
   "id": "76c7c3d0-19d8-4bc8-a5db-3b2ccf6c14d3",
   "metadata": {},
   "outputs": [],
   "source": [
    "a=90"
   ]
  },
  {
   "cell_type": "code",
   "execution_count": 6,
   "id": "aba09e53-d3c5-450c-88da-7f8607c05b00",
   "metadata": {},
   "outputs": [
    {
     "data": {
      "text/plain": [
       "90"
      ]
     },
     "execution_count": 6,
     "metadata": {},
     "output_type": "execute_result"
    }
   ],
   "source": [
    "a"
   ]
  },
  {
   "cell_type": "markdown",
   "id": "f2ab49b8-cb02-433b-b8fb-8394c6eacc89",
   "metadata": {},
   "source": [
    "Problem 22: Given an array with n objects colored red, white, or blue, sort them in-place so that objects of\n",
    "the same color are adjacent, with the colors in the order red, white, and blue.\n",
    "\n",
    "Input: nums = [2, 0, 2, 1, 1, 0]\n",
    "Output: [0, 0, 1, 1, 2, 2]"
   ]
  },
  {
   "cell_type": "code",
   "execution_count": 17,
   "id": "60efbee2-c802-4a0d-8389-fb2e71343787",
   "metadata": {},
   "outputs": [],
   "source": [
    "def bubble_sort(array):\n",
    "    for i in range(len(array)-1,0,-1):\n",
    "        for j in range(i):\n",
    "            if array[j+1]<array[j]:\n",
    "                array[j],array[j+1]=array[j+1],array[j]\n",
    "def test(array):\n",
    "    bubble_sort(array)\n",
    "    left=0\n",
    "    right=len(array)-1\n",
    "    while left<=right:\n",
    "        if left==right:\n",
    "            print(array[left],end=' ')\n",
    "        else:\n",
    "           \n",
    "            print(array[right],end=' ')\n",
    "            print(array[left],end=' ')\n",
    "            left+=1\n",
    "            right-=1\n",
    "    "
   ]
  },
  {
   "cell_type": "code",
   "execution_count": 18,
   "id": "1c4a02df-0f2d-4224-bd45-49c237997386",
   "metadata": {},
   "outputs": [
    {
     "name": "stdout",
     "output_type": "stream",
     "text": [
      "2 0 2 0 1 1 "
     ]
    }
   ],
   "source": [
    "array=[2, 0, 2, 1, 1, 0]\n",
    "test(array)"
   ]
  },
  {
   "cell_type": "markdown",
   "id": "dc4dfdb6-5f06-4244-ae9b-b93e4b998ee5",
   "metadata": {},
   "source": [
    "Problem 21: Given a sorted character array and a target letter, find the smallest letter in the array that is\n",
    "greater than the target.\n",
    "Input: letters = ['c', 'f', 'j'], target = a\n",
    "Output: 'c'"
   ]
  },
  {
   "cell_type": "code",
   "execution_count": 2,
   "id": "7acd812f-9358-43f8-b455-354f411dd418",
   "metadata": {},
   "outputs": [
    {
     "name": "stdout",
     "output_type": "stream",
     "text": [
      "c\n"
     ]
    }
   ],
   "source": [
    "class Solution:\n",
    "    def nextGreatestLetter(self, letters, target):\n",
    "        l = 0\n",
    "        r = len(letters) - 1\n",
    "        while l <= r:\n",
    "            mid = (l + r)//2\n",
    "            if letters[mid] > target:\n",
    "                r = mid -1\n",
    "            else:\n",
    "                l = mid + 1\n",
    "        return letters[l % len(letters)]\n",
    "ob = Solution()\n",
    "print(ob.nextGreatestLetter([\"c\", \"f\", \"j\"], \"a\"))"
   ]
  },
  {
   "cell_type": "markdown",
   "id": "a9f04630-678f-40f8-9b8c-44084d2a0656",
   "metadata": {},
   "source": [
    "Problem 19: Given a 2D matrix sorted in ascending order in each row, and the first integer of each row is\n",
    "greater than the last integer of the previous row, determine if a target value is present in the matrix.\n",
    "Input: matrix = [[1, 3, 5, 7], [10, 11, 16, 20], [23, 30, 34, 60]], target = 3\n",
    "Output: True"
   ]
  },
  {
   "cell_type": "code",
   "execution_count": 34,
   "id": "5991a403-c7d9-4162-8ddf-06050f868d34",
   "metadata": {},
   "outputs": [
    {
     "name": "stdout",
     "output_type": "stream",
     "text": [
      "True\n"
     ]
    }
   ],
   "source": [
    "\n",
    "M = 3\n",
    "N = 4\n",
    "\n",
    "def binarySearch1D(arr, K):\n",
    "\tlow = 0\n",
    "\thigh = N - 1\n",
    "\twhile (low <= high):\n",
    "\t\tmid = low + int((high - low) / 2)\n",
    "\n",
    "\t\n",
    "\t\tif (arr[mid] == K):\n",
    "\t\t\treturn True\n",
    "\n",
    "\t\t\n",
    "\t\tif (arr[mid] < K):\n",
    "\t\t\tlow = mid + 1\n",
    "\t\telse:\n",
    "\t\t\thigh = mid - 1\n",
    "\n",
    "\t# if not found return false\n",
    "\treturn False\n",
    "\n",
    "def searchMatrix(matrix, K):\n",
    "\tlow = 0\n",
    "\thigh = M - 1\n",
    "\twhile (low <= high):\n",
    "\t\tmid = low + int((high - low) / 2)\n",
    "\n",
    "\t\tif (K >= matrix[mid][0] and\n",
    "\t\t\tK <= matrix[mid][N - 1]):\n",
    "\t\t\treturn binarySearch1D(matrix[mid], K)\n",
    "\n",
    "\t\t\n",
    "\t\tif (K < matrix[mid][0]):\n",
    "\t\t\thigh = mid - 1\n",
    "\t\telse:\n",
    "\t\t\tlow = mid + 1\n",
    "\n",
    "\t# if not found\n",
    "\treturn False\n",
    "\n",
    "# Driver code\n",
    "if __name__ == '__main__':\n",
    "\tmatrix = [[1, 3, 5, 7],\n",
    "\t\t\t[10, 11, 16, 20],\n",
    "\t\t\t[23, 30, 34, 50]]\n",
    "\tK = 3\n",
    "\tif (searchMatrix(matrix, K)):\n",
    "\t\tprint(\"True\")\n",
    "\telse:\n",
    "\t\tprint(\"False\")"
   ]
  },
  {
   "cell_type": "code",
   "execution_count": null,
   "id": "a30fb3e8-abc3-485b-9a53-ba73e945fb25",
   "metadata": {},
   "outputs": [],
   "source": [
    "Problem 18: Given a m x n matrix where each row and column is sorted in ascending order, count the number\n",
    "of negative numbers.\n",
    "Input: grid = [[4, 3, 2, -1], [3, 2, 1, -1], [1, 1, -1, -2], [-1, -1, -2, -3]]\n",
    "Output: 8"
   ]
  },
  {
   "cell_type": "code",
   "execution_count": 101,
   "id": "66b66b59-92b1-4e0b-87d0-261d03ae15d8",
   "metadata": {},
   "outputs": [],
   "source": [
    "def countNegative(M, n, m,b):\n",
    "    count = 0\n",
    " \n",
    "    # Follow the path shown using arrows above\n",
    "    for i in range(n):\n",
    "        for j in range(m):\n",
    "            for k in range(b):\n",
    "                if M[i][j][k] < 0:\n",
    "                    count += 1\n",
    "                else:\n",
    "                    break\n",
    "        return count\n",
    "    \n",
    " "
   ]
  },
  {
   "cell_type": "code",
   "execution_count": null,
   "id": "405572b9-4938-44ee-9932-db9eff34ad7e",
   "metadata": {},
   "outputs": [],
   "source": [
    "Problem 16: Search for a target value in a rotated sorted array.\n",
    "Input: nums = [4, 5, 6, 7, 0, 1, 2], target = 0\n",
    "Output: 4"
   ]
  },
  {
   "cell_type": "code",
   "execution_count": 106,
   "id": "ac99cc6e-a4aa-4a42-9a48-b64f06d65171",
   "metadata": {},
   "outputs": [],
   "source": [
    "def index(nums,si,target):\n",
    "    if si>len(nums):\n",
    "        return\n",
    "    if target==nums[si]:\n",
    "        return nums[target]\n",
    "    else:\n",
    "        return index(nums,si+1,target)"
   ]
  },
  {
   "cell_type": "code",
   "execution_count": 107,
   "id": "063bf8af-30d4-4475-927c-5ce9d0e42669",
   "metadata": {},
   "outputs": [
    {
     "data": {
      "text/plain": [
       "4"
      ]
     },
     "execution_count": 107,
     "metadata": {},
     "output_type": "execute_result"
    }
   ],
   "source": [
    "nums = [4, 5, 6, 7, 0, 1, 2]\n",
    "index(nums,0,target=0)"
   ]
  },
  {
   "cell_type": "code",
   "execution_count": null,
   "id": "1850dc66-af34-46a4-be72-5cdf490285c3",
   "metadata": {},
   "outputs": [],
   "source": [
    "Problem 15: Find the minimum element in a rotated sorted array.\n",
    "Input: [4, 5, 6, 7, 0, 1, 2]\n",
    "Output: 0"
   ]
  },
  {
   "cell_type": "code",
   "execution_count": 111,
   "id": "db260c4a-d1c3-4373-ab0b-bd016a26a72a",
   "metadata": {},
   "outputs": [],
   "source": [
    "def minimum(array,n):\n",
    "    if n==0:\n",
    "        return array[0]\n",
    "    else:\n",
    "        return min(array[n-1],minimum(array,n-1))\n",
    "    "
   ]
  },
  {
   "cell_type": "code",
   "execution_count": 144,
   "id": "1edb6a9a-5c26-410f-b0b9-c3db255d4326",
   "metadata": {},
   "outputs": [
    {
     "data": {
      "text/plain": [
       "0"
      ]
     },
     "execution_count": 144,
     "metadata": {},
     "output_type": "execute_result"
    }
   ],
   "source": [
    "array=[4, 5, 6, 7, 0, 1, 2]\n",
    "n=len(array)\n",
    "minimum(array,n)"
   ]
  },
  {
   "cell_type": "code",
   "execution_count": 145,
   "id": "d2ea51cc-4d75-4b04-b534-963936435517",
   "metadata": {},
   "outputs": [
    {
     "ename": "SyntaxError",
     "evalue": "invalid syntax (461074605.py, line 1)",
     "output_type": "error",
     "traceback": [
      "\u001b[0;36m  Cell \u001b[0;32mIn[145], line 1\u001b[0;36m\u001b[0m\n\u001b[0;31m    Problem 14: Given a sorted array and a target value, return the index if the target is found. If not, return the\u001b[0m\n\u001b[0m            ^\u001b[0m\n\u001b[0;31mSyntaxError\u001b[0m\u001b[0;31m:\u001b[0m invalid syntax\n"
     ]
    }
   ],
   "source": [
    "Problem 14: Given a sorted array and a target value, return the index if the target is found. If not, return the\n",
    "index where it would be inserted.\n",
    "Input: nums = [1, 3, 5, 6], target = 5\n",
    "Output: 2"
   ]
  },
  {
   "cell_type": "code",
   "execution_count": 146,
   "id": "67651122-55c3-4d28-b7bc-15d7fc79ae41",
   "metadata": {},
   "outputs": [],
   "source": [
    "def test(array,target,si):\n",
    "    if si>len(array):\n",
    "        return\n",
    "    if array[si]==target:\n",
    "        return si\n",
    "    else:\n",
    "        return test(array,target,si+1)"
   ]
  },
  {
   "cell_type": "code",
   "execution_count": 147,
   "id": "4f9cd536-aa51-4f81-be0b-423e5d014408",
   "metadata": {},
   "outputs": [
    {
     "data": {
      "text/plain": [
       "2"
      ]
     },
     "execution_count": 147,
     "metadata": {},
     "output_type": "execute_result"
    }
   ],
   "source": [
    "target=5\n",
    "array=[1, 3, 5, 6]\n",
    "test(array,target,0)"
   ]
  },
  {
   "cell_type": "markdown",
   "id": "cad8ecff-4b2f-4cb2-8efc-67e248abfa21",
   "metadata": {},
   "source": [
    "Problem 13: Given a non-negative number represented as a linked list, add one to it.\n",
    "Input: 1 -> 2 -> 3 (represents the number 123)\n",
    "Output: 1 -> 2 -> 4 (represents the number 124)"
   ]
  },
  {
   "cell_type": "code",
   "execution_count": 148,
   "id": "c69dc3bf-8a94-4b0b-b924-8cb766b07a73",
   "metadata": {},
   "outputs": [],
   "source": [
    "class Node:\n",
    "    def __init__(self,data=None,next=None):\n",
    "        self.data=data\n",
    "        self.next=next\n",
    "    def set_data(self,data):\n",
    "        self.data=data\n",
    "    def get_data(self):\n",
    "        return self.data\n",
    "    def set_next(self,next):\n",
    "        self.next=next\n",
    "    def get_next(self):\n",
    "        return self.next\n",
    "head=Node(1)\n",
    "node2=Node(2)\n",
    "node3=Node(3)\n",
    "\n",
    "head.set_next(node2)\n",
    "node2.set_next(node3)\n",
    "\n",
    "def traverse(head):\n",
    "    temp=head\n",
    "    while temp:\n",
    "        print(temp.get_data(),end='->')\n",
    "        temp=temp.get_next()\n",
    "def length(head):\n",
    "    if not head:\n",
    "        return 0\n",
    "    else:\n",
    "        return 1+length(head.get_next())"
   ]
  },
  {
   "cell_type": "code",
   "execution_count": 149,
   "id": "d7407ace-be84-4e0f-8044-eb57a96c3386",
   "metadata": {},
   "outputs": [
    {
     "name": "stdout",
     "output_type": "stream",
     "text": [
      "1->2->3->4->5->\n",
      "<__main__.Node object at 0x7fb755d01ae0>\n"
     ]
    }
   ],
   "source": [
    "def insert(head,data,k):\n",
    "    if k>length(head) or k<0:\n",
    "        print('arguement not k')\n",
    "        return head\n",
    "    newnode=Node(head)\n",
    "    if k==0:\n",
    "        newnode.set_next(head)\n",
    "        head=newnode\n",
    "    else:\n",
    "        prev=head\n",
    "        i=0\n",
    "        while i<k-1:\n",
    "            prev=prev.get_next()\n",
    "            i+=1\n",
    "            newnode.set_next(prev.get_next())\n",
    "            prev.set_next(newnode)\n",
    "            return head\n",
    "head=Node(1)\n",
    "node2=Node(2)\n",
    "node3=Node(3)\n",
    "node4=Node(4)\n",
    "node5=Node(5)\n",
    "\n",
    "head.set_next(node2)\n",
    "node2.set_next(node3)\n",
    "node3.set_next(node4)\n",
    "node4.set_next(node5)\n",
    "traverse(head)\n",
    "print()\n",
    "head=insert(head,2,3)\n",
    "print(insert(head,2,3))"
   ]
  },
  {
   "cell_type": "code",
   "execution_count": 150,
   "id": "b6a64764-ed57-4cd0-8441-12c447dba841",
   "metadata": {},
   "outputs": [
    {
     "ename": "SyntaxError",
     "evalue": "invalid syntax (358882122.py, line 1)",
     "output_type": "error",
     "traceback": [
      "\u001b[0;36m  Cell \u001b[0;32mIn[150], line 1\u001b[0;36m\u001b[0m\n\u001b[0;31m    Problem 1: Reverse a singly linked list.\u001b[0m\n\u001b[0m            ^\u001b[0m\n\u001b[0;31mSyntaxError\u001b[0m\u001b[0;31m:\u001b[0m invalid syntax\n"
     ]
    }
   ],
   "source": [
    "Problem 1: Reverse a singly linked list.\n",
    "Input: 1 -> 2 -> 3 -> 4 -> 5\n",
    "Output: 5 -> 4 -> 3 -> 2 -> 1"
   ]
  },
  {
   "cell_type": "code",
   "execution_count": 151,
   "id": "61622825-e120-4d0b-b49d-733bbebb7540",
   "metadata": {},
   "outputs": [
    {
     "name": "stdout",
     "output_type": "stream",
     "text": [
      "Given linked list\n",
      "1 2 3 4 5 \n",
      "Reversed linked list\n",
      "5 4 3 2 1 "
     ]
    }
   ],
   "source": [
    "\n",
    "# Time Complexity : O(n)\n",
    "# Space Complexity : O(1)\n",
    "\n",
    "class Node:\n",
    "\n",
    "\t# Constructor to initialize the node object\n",
    "\tdef __init__(self, data):\n",
    "\t\tself.data = data\n",
    "\t\tself.next = None\n",
    "\n",
    "\n",
    "class LinkedList:\n",
    "\n",
    "\t# Function to initialize head\n",
    "\tdef __init__(self):\n",
    "\t\tself.head = None\n",
    "\n",
    "\t# Function to reverse the linked list\n",
    "\tdef reverse(self):\n",
    "\t\tprev = None\n",
    "\t\tcurrent = self.head\n",
    "\t\twhile(current is not None):\n",
    "\t\t\tnext = current.next\n",
    "\t\t\tcurrent.next = prev\n",
    "\t\t\tprev = current\n",
    "\t\t\tcurrent = next\n",
    "\t\tself.head = prev\n",
    "\n",
    "\t# Function to insert a new node at the beginning\n",
    "\tdef push(self, new_data):\n",
    "\t\tnew_node = Node(new_data)\n",
    "\t\tnew_node.next = self.head\n",
    "\t\tself.head = new_node\n",
    "\n",
    "\t# Utility function to print the LinkedList\n",
    "\tdef printList(self):\n",
    "\t\ttemp = self.head\n",
    "\t\twhile(temp):\n",
    "\t\t\tprint(temp.data, end=\" \")\n",
    "\t\t\ttemp = temp.next\n",
    "\n",
    "\n",
    "# Driver code\n",
    "llist = LinkedList()\n",
    "llist.push(5)\n",
    "llist.push(4)\n",
    "llist.push(3)\n",
    "llist.push(2)\n",
    "llist.push(1)\n",
    "\n",
    "print (\"Given linked list\")\n",
    "llist.printList()\n",
    "llist.reverse()\n",
    "print (\"\\nReversed linked list\")\n",
    "llist.printList()\n",
    "\n",
    "\n"
   ]
  },
  {
   "cell_type": "markdown",
   "id": "0009ac12-2ac5-4d7d-a9b8-f7006f764c9a",
   "metadata": {},
   "source": [
    "Problem 2: Merge two sorted linked lists into one sorted linked list.\n",
    "Input: List 1: 1 -> 3 -> 5, List 2: 2 -> 4 -> 6\n",
    "Output: 1 -> 2 -> 3 -> 4 -> 5 -> 6"
   ]
  },
  {
   "cell_type": "markdown",
   "id": "df40bdee-c6d4-4644-8acd-0eedbc7e7d8b",
   "metadata": {},
   "source": [
    "def merge_two_sorted_linked_lists(list1, list2):\n",
    "  \n",
    "\n",
    "  merged_list = LinkedList()\n",
    "  current1 = list1.head\n",
    "  current2 = list2.head\n",
    "\n",
    "  while current1 is not None and current2 is not None:\n",
    "    if current1.data < current2.data:\n",
    "      merged_list.append(current1.data)\n",
    "      current1 = current1.next\n",
    "    else:\n",
    "      merged_list.append(current2.data)\n",
    "      current2 = current2.next\n",
    "\n",
    "  while current1 is not None:\n",
    "    merged_list.append(current1.data)\n",
    "    current1 = current1.next\n",
    "\n",
    "  while current2 is not None:\n",
    "    merged_list.append(current2.data)\n",
    "    current2 = current2.next\n",
    "\n",
    "  return merged_list\n",
    "\n"
   ]
  },
  {
   "cell_type": "code",
   "execution_count": null,
   "id": "0e545efd-312e-4478-b77e-21bf2c778e50",
   "metadata": {},
   "outputs": [],
   "source": []
  },
  {
   "cell_type": "code",
   "execution_count": null,
   "id": "662c243f-a6ce-4b91-b990-2a78eeaaabf1",
   "metadata": {},
   "outputs": [],
   "source": []
  },
  {
   "cell_type": "code",
   "execution_count": null,
   "id": "b869761e-ae6d-4a90-95f1-cfc6617188e9",
   "metadata": {},
   "outputs": [],
   "source": []
  }
 ],
 "metadata": {
  "kernelspec": {
   "display_name": "Python 3 (ipykernel)",
   "language": "python",
   "name": "python3"
  },
  "language_info": {
   "codemirror_mode": {
    "name": "ipython",
    "version": 3
   },
   "file_extension": ".py",
   "mimetype": "text/x-python",
   "name": "python",
   "nbconvert_exporter": "python",
   "pygments_lexer": "ipython3",
   "version": "3.10.8"
  }
 },
 "nbformat": 4,
 "nbformat_minor": 5
}
